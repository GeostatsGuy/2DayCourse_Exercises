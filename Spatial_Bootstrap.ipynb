{
 "cells": [
  {
   "cell_type": "code",
   "execution_count": 73,
   "metadata": {
    "collapsed": true
   },
   "outputs": [],
   "source": [
    "# Demonstration of Spatial Boostrap \n",
    "# Contact: Michael Pyrcz, University of Texas at Austin, Geostatistics Course\n",
    "#\n",
    "# Steps:\n",
    "# 1. Build an initial sample set with $ndata$ samples.  Specify locations.  Sort the data in a data only array for \n",
    "#    an equal weighted cumulative density function (CDF) for backtransform\n",
    "# 2. Calculate the covariance matrix (between the data) for LU simulation.  This provides a fast and easy method\n",
    "#    to calculate spaitally correlated, unconditional, Gaussian realizations at the data locations.\n",
    "# 3. Perform LU (lower upper) decomposition of the covariance matrix.  Realizations only require L x random vector.\n",
    "# 4. Draw from this initial sample set, with replacement, $ndata$ times to build a new realization of the sample.  \n",
    "#    Repeat this $nreal$ times to make realizations of the sample.  Use LU simulation to ensure spaital correlation \n",
    "#    between samples.  Backtransform from Gaussian to original data values (use percentiles to sample).\n",
    "# 5. Calculate the statistic of interest for each realization. This demonstration considers the mean only.  \n",
    "#    We could have considered any statistic including median, 13th percentile, skew etc. \n",
    "# 6. - 7. Quantify and visualize uncertainty with histograms and summary statistics.\n",
    "#\n",
    "# References:\n",
    "#\n",
    "# Efron, 1982, The jackknife, the bootstrap, and other resampling plans, Society of Industrial and Applied Math, \n",
    "# CBMS-NSF Monographs, 38.\n",
    "#\n",
    "# Journel, A. G. Resampling from stochastic simulations. Environmental and Ecological Statistics, 1:63–84, 1994.\n",
    "#"
   ]
  },
  {
   "cell_type": "code",
   "execution_count": 139,
   "metadata": {
    "collapsed": true
   },
   "outputs": [],
   "source": [
    "# Imports \n",
    "import pprint\n",
    "import math\n",
    "import scipy\n",
    "import scipy.linalg                # SciPy Linear Algebra Library\n",
    "from scipy.stats import norm\n",
    "import numpy as np\n",
    "import pandas as pd\n",
    "import matplotlib.pyplot as plt"
   ]
  },
  {
   "cell_type": "code",
   "execution_count": 140,
   "metadata": {},
   "outputs": [
    {
     "name": "stdout",
     "output_type": "stream",
     "text": [
      "[[ 25.   50.    2.3]\n",
      " [ 75.   80.    5.5]\n",
      " [ 10.   25.    7. ]\n",
      " [ 95.   15.    8.7]]\n",
      "[ 2.3  5.5  7.   8.7]\n"
     ]
    }
   ],
   "source": [
    "# 1. Make Spatial Dataset and Define Number of Realizations (just need a sufficient number to summarize uncertainty)\n",
    "nreal = 100                                               # User Specified\n",
    "# Assign Data Values - assume 4 data locations\n",
    "ndata = 4                                                 # User Specified\n",
    "output = np.zeros((ndata,nreal))  # x, y, value \n",
    "data = np.zeros((ndata,3))  # x, y, value \n",
    "data[0,0] = 25.0;  data[0,1] = 50.0;  data[0,2] = 2.3     # User Specified\n",
    "data[1,0] = 75.0;  data[1,1] = 80.0;  data[1,2] = 5.5     # User Specified\n",
    "data[2,0] = 10.0;  data[2,1] = 25.0;  data[2,2] = 7.0     # User Specified\n",
    "data[3,0] = 95.0;  data[3,1] = 15.0;  data[3,2] = 8.7     # User Specified\n",
    "# Set up backtransform lookup table\n",
    "value = np.zeros(ndata) \n",
    "for i in range(0, ndata):\n",
    "    value[i] = data[i,2]\n",
    "print(data) \n",
    "value.sort()\n",
    "print(value)"
   ]
  },
  {
   "cell_type": "code",
   "execution_count": 141,
   "metadata": {},
   "outputs": [
    {
     "data": {
      "text/plain": [
       "array([[ 1.        ,  0.2244834 ,  0.57506938,  0.06574285],\n",
       "       [ 0.2244834 ,  1.        ,  0.03145365,  0.13715671],\n",
       "       [ 0.57506938,  0.03145365,  1.        ,  0.0296663 ],\n",
       "       [ 0.06574285,  0.13715671,  0.0296663 ,  1.        ]])"
      ]
     },
     "execution_count": 141,
     "metadata": {},
     "output_type": "execute_result"
    }
   ],
   "source": [
    "# 2. Calculate Symmetric Covariance Array - assuming variogram with spherical structure with range specified, var_range\n",
    "cov = np.zeros((ndata,ndata))\n",
    "var_range = 100.0                                          # User Specified\n",
    "for i in range(0, ndata):\n",
    "    for j in range(0, ndata):\n",
    "        distance = math.sqrt(math.pow((data[i,0]-data[j,0]),2) + math.pow((data[i,1]-data[j,1]),2))\n",
    "        cova = 0.0\n",
    "        if(distance < var_range):\n",
    "            hr = distance / var_range\n",
    "            cova = 1.0 - hr*(1.5 - 0.5*hr*hr)  # spherical structure, no nugget\n",
    "            cov[i,j] = cova\n",
    "cov"
   ]
  },
  {
   "cell_type": "code",
   "execution_count": 142,
   "metadata": {},
   "outputs": [
    {
     "name": "stdout",
     "output_type": "stream",
     "text": [
      "[[ 1.          0.          0.          0.        ]\n",
      " [ 0.2244834   1.          0.          0.        ]\n",
      " [ 0.57506938 -0.10282133  1.          0.        ]\n",
      " [ 0.06574285  0.12889386  0.00674212  1.        ]]\n",
      "[[ 1.          0.2244834   0.57506938  0.06574285]\n",
      " [ 0.          0.9496072  -0.09763988  0.12239854]\n",
      " [ 0.          0.          0.65925575  0.00444478]\n",
      " [ 0.          0.          0.          0.97987149]]\n"
     ]
    }
   ],
   "source": [
    "# 3. Perform LU Decomposition using scipy (used tutorial at www.quantstart.com) \n",
    "P, L, U = scipy.linalg.lu(cov)\n",
    "print(L);  print(U)"
   ]
  },
  {
   "cell_type": "code",
   "execution_count": 132,
   "metadata": {
    "scrolled": true
   },
   "outputs": [],
   "source": [
    "# Test the LU Decomposition (available for testing only)\n",
    "#Test = cov - np.matmul(L,U)\n",
    "#Test  # should be zeros"
   ]
  },
  {
   "cell_type": "code",
   "execution_count": 147,
   "metadata": {
    "scrolled": true
   },
   "outputs": [
    {
     "data": {
      "text/plain": [
       "array([[ 7. ,  5.5,  7. ,  5.5,  8.7,  7. ,  2.3,  5.5,  8.7,  5.5,  2.3,\n",
       "         5.5,  8.7,  2.3,  7. ,  7. ,  7. ,  7. ,  7. ,  5.5,  2.3,  2.3,\n",
       "         7. ,  7. ,  8.7,  5.5,  8.7,  2.3,  5.5,  5.5,  2.3,  7. ,  5.5,\n",
       "         5.5,  8.7,  8.7,  5.5,  5.5,  8.7,  2.3,  7. ,  2.3,  2.3,  5.5,\n",
       "         5.5,  2.3,  2.3,  8.7,  8.7,  5.5,  8.7,  8.7,  8.7,  5.5,  5.5,\n",
       "         5.5,  8.7,  8.7,  7. ,  5.5,  7. ,  2.3,  7. ,  2.3,  8.7,  8.7,\n",
       "         5.5,  7. ,  2.3,  7. ,  2.3,  7. ,  2.3,  5.5,  8.7,  5.5,  8.7,\n",
       "         5.5,  5.5,  8.7,  2.3,  7. ,  5.5,  7. ,  5.5,  8.7,  5.5,  2.3,\n",
       "         2.3,  2.3,  5.5,  2.3,  2.3,  8.7,  7. ,  7. ,  5.5,  2.3,  7. ,\n",
       "         5.5],\n",
       "       [ 5.5,  8.7,  5.5,  5.5,  2.3,  2.3,  5.5,  7. ,  7. ,  5.5,  2.3,\n",
       "         5.5,  7. ,  2.3,  7. ,  5.5,  5.5,  2.3,  5.5,  2.3,  5.5,  8.7,\n",
       "         7. ,  7. ,  2.3,  5.5,  7. ,  8.7,  2.3,  8.7,  2.3,  2.3,  2.3,\n",
       "         5.5,  8.7,  7. ,  7. ,  5.5,  2.3,  8.7,  2.3,  5.5,  2.3,  8.7,\n",
       "         5.5,  5.5,  2.3,  8.7,  8.7,  8.7,  7. ,  7. ,  8.7,  5.5,  2.3,\n",
       "         7. ,  5.5,  7. ,  7. ,  2.3,  8.7,  7. ,  7. ,  7. ,  8.7,  2.3,\n",
       "         2.3,  2.3,  5.5,  7. ,  2.3,  8.7,  8.7,  2.3,  2.3,  8.7,  7. ,\n",
       "         7. ,  7. ,  5.5,  2.3,  8.7,  8.7,  2.3,  2.3,  8.7,  5.5,  5.5,\n",
       "         8.7,  2.3,  8.7,  5.5,  5.5,  2.3,  5.5,  7. ,  7. ,  5.5,  2.3,\n",
       "         5.5],\n",
       "       [ 7. ,  7. ,  8.7,  5.5,  8.7,  8.7,  5.5,  8.7,  7. ,  2.3,  7. ,\n",
       "         8.7,  8.7,  2.3,  2.3,  8.7,  7. ,  2.3,  2.3,  2.3,  2.3,  2.3,\n",
       "         2.3,  8.7,  8.7,  7. ,  5.5,  2.3,  5.5,  2.3,  2.3,  5.5,  2.3,\n",
       "         8.7,  2.3,  8.7,  7. ,  7. ,  8.7,  2.3,  8.7,  2.3,  7. ,  2.3,\n",
       "         5.5,  8.7,  5.5,  7. ,  2.3,  5.5,  8.7,  7. ,  8.7,  2.3,  8.7,\n",
       "         7. ,  7. ,  8.7,  8.7,  2.3,  2.3,  2.3,  7. ,  2.3,  5.5,  2.3,\n",
       "         8.7,  8.7,  2.3,  8.7,  5.5,  2.3,  2.3,  5.5,  8.7,  7. ,  8.7,\n",
       "         5.5,  8.7,  8.7,  7. ,  5.5,  5.5,  8.7,  7. ,  7. ,  2.3,  8.7,\n",
       "         2.3,  2.3,  7. ,  2.3,  2.3,  5.5,  5.5,  5.5,  5.5,  2.3,  8.7,\n",
       "         7. ],\n",
       "       [ 8.7,  7. ,  2.3,  5.5,  7. ,  5.5,  5.5,  8.7,  7. ,  7. ,  2.3,\n",
       "         7. ,  5.5,  5.5,  5.5,  5.5,  7. ,  7. ,  8.7,  8.7,  5.5,  2.3,\n",
       "         7. ,  8.7,  7. ,  2.3,  2.3,  8.7,  8.7,  8.7,  2.3,  8.7,  5.5,\n",
       "         5.5,  5.5,  7. ,  8.7,  7. ,  8.7,  8.7,  5.5,  8.7,  2.3,  8.7,\n",
       "         7. ,  8.7,  7. ,  5.5,  2.3,  7. ,  7. ,  5.5,  2.3,  7. ,  8.7,\n",
       "         7. ,  2.3,  8.7,  2.3,  2.3,  5.5,  8.7,  5.5,  7. ,  7. ,  8.7,\n",
       "         7. ,  2.3,  7. ,  8.7,  5.5,  8.7,  5.5,  5.5,  8.7,  8.7,  7. ,\n",
       "         8.7,  2.3,  8.7,  5.5,  7. ,  5.5,  5.5,  5.5,  5.5,  7. ,  2.3,\n",
       "         5.5,  8.7,  5.5,  2.3,  5.5,  2.3,  5.5,  5.5,  7. ,  8.7,  7. ,\n",
       "         8.7]])"
      ]
     },
     "execution_count": 147,
     "metadata": {},
     "output_type": "execute_result"
    }
   ],
   "source": [
    "# 4. Calculate Unconditional Realization at the Specified Locations from the Data Distribution with Replacement\n",
    "#    Realizations in Gaussian space are converted to p-values and then applied to draw from the original distribution\n",
    "for ireal in range(0, nreal):    \n",
    "    for i in range(0, ndata):\n",
    "        rand[i] = np.random.normal()\n",
    "    realization = np.matmul(L,rand)\n",
    "# Convert to p-values    \n",
    "    for i in range(0, ndata):\n",
    "        pvalue[i] = norm.cdf(realization[i])\n",
    "# Complete backtransform by selecting percentiles from original cdf (drawing with replacement from provided data values)       \n",
    "        index = int(round( ndata * pvalue[i] - 0.5))\n",
    "        output[i,ireal] = value[index]\n",
    "output"
   ]
  },
  {
   "cell_type": "code",
   "execution_count": 144,
   "metadata": {},
   "outputs": [
    {
     "data": {
      "text/plain": [
       "array([ 3.9  ,  6.3  ,  3.1  ,  4.275,  7.475,  3.1  ,  7.475,  8.7  ,\n",
       "        5.875,  4.7  ,  5.075,  5.075,  7.1  ,  5.075,  7.475,  4.7  ,\n",
       "        6.675,  6.675,  4.275,  5.075,  5.075,  5.45 ,  3.9  ,  5.5  ,\n",
       "        5.075,  8.275,  6.3  ,  4.65 ,  7.475,  7.475,  7.475,  6.675,\n",
       "        6.3  ,  5.075,  6.675,  6.675,  6.25 ,  6.25 ,  6.3  ,  3.9  ,\n",
       "        6.3  ,  7.05 ,  6.25 ,  6.675,  5.075,  5.875,  7.1  ,  7.05 ,\n",
       "        5.5  ,  3.1  ,  4.7  ,  6.3  ,  3.9  ,  5.075,  3.9  ,  5.45 ,\n",
       "        7.05 ,  5.5  ,  4.7  ,  6.3  ,  5.875,  5.5  ,  6.675,  5.875,\n",
       "        3.475,  5.5  ,  3.1  ,  4.7  ,  5.875,  5.875,  8.7  ,  8.7  ,\n",
       "        3.1  ,  4.275,  7.425,  7.475,  5.875,  5.45 ,  7.9  ,  6.25 ,\n",
       "        5.875,  3.1  ,  5.45 ,  6.675,  7.475,  5.875,  4.7  ,  5.5  ,\n",
       "        3.9  ,  6.675,  5.5  ,  7.1  ,  5.075,  2.3  ,  3.9  ,  5.45 ,\n",
       "        5.5  ,  4.7  ,  7.05 ,  7.425])"
      ]
     },
     "execution_count": 144,
     "metadata": {},
     "output_type": "execute_result"
    }
   ],
   "source": [
    "# 5. Calculate the summary statistic of interest (mean only for this example)\n",
    "# Any summary statistic may be calculated.\n",
    "summary = np.zeros(nreal) \n",
    "for ireal in range(0, nreal): \n",
    "    mean = 0\n",
    "    for i in range(0, ndata):\n",
    "        mean = mean + output[i,ireal]    \n",
    "    mean = mean / ndata\n",
    "    summary[ireal] = mean\n",
    "summary"
   ]
  },
  {
   "cell_type": "code",
   "execution_count": 148,
   "metadata": {
    "scrolled": true
   },
   "outputs": [
    {
     "data": {
      "image/png": "[encoded data removed]",
      "text/plain": [
       "<matplotlib.figure.Figure at 0x233a1c314e0>"
      ]
     },
     "metadata": {},
     "output_type": "display_data"
    }
   ],
   "source": [
    "# 6. Visualize the summary statistic, calculate the variance or any other measure of spread to represent uncertainty in\n",
    "#    the summary statistic.\n",
    "plt.hist(summary,bins=20,normed=True)\n",
    "plt.title(\"Spatial Bootstrap Resamples of Mean\")\n",
    "plt.xlabel(\"Mean\")\n",
    "plt.ylabel(\"Frequency\")\n",
    "plt.show()"
   ]
  },
  {
   "cell_type": "code",
   "execution_count": 146,
   "metadata": {},
   "outputs": [
    {
     "data": {
      "text/html": [
       "<div>\n",
       "<style>\n",
       "    .dataframe thead tr:only-child th {\n",
       "        text-align: right;\n",
       "    }\n",
       "\n",
       "    .dataframe thead th {\n",
       "        text-align: left;\n",
       "    }\n",
       "\n",
       "    .dataframe tbody tr th {\n",
       "        vertical-align: top;\n",
       "    }\n",
       "</style>\n",
       "<table border=\"1\" class=\"dataframe\">\n",
       "  <thead>\n",
       "    <tr style=\"text-align: right;\">\n",
       "      <th></th>\n",
       "      <th>mean</th>\n",
       "    </tr>\n",
       "  </thead>\n",
       "  <tbody>\n",
       "    <tr>\n",
       "      <th>count</th>\n",
       "      <td>100.000000</td>\n",
       "    </tr>\n",
       "    <tr>\n",
       "      <th>mean</th>\n",
       "      <td>5.725250</td>\n",
       "    </tr>\n",
       "    <tr>\n",
       "      <th>std</th>\n",
       "      <td>1.399055</td>\n",
       "    </tr>\n",
       "    <tr>\n",
       "      <th>min</th>\n",
       "      <td>2.300000</td>\n",
       "    </tr>\n",
       "    <tr>\n",
       "      <th>25%</th>\n",
       "      <td>4.700000</td>\n",
       "    </tr>\n",
       "    <tr>\n",
       "      <th>50%</th>\n",
       "      <td>5.875000</td>\n",
       "    </tr>\n",
       "    <tr>\n",
       "      <th>75%</th>\n",
       "      <td>6.675000</td>\n",
       "    </tr>\n",
       "    <tr>\n",
       "      <th>max</th>\n",
       "      <td>8.700000</td>\n",
       "    </tr>\n",
       "  </tbody>\n",
       "</table>\n",
       "</div>"
      ],
      "text/plain": [
       "             mean\n",
       "count  100.000000\n",
       "mean     5.725250\n",
       "std      1.399055\n",
       "min      2.300000\n",
       "25%      4.700000\n",
       "50%      5.875000\n",
       "75%      6.675000\n",
       "max      8.700000"
      ]
     },
     "execution_count": 146,
     "metadata": {},
     "output_type": "execute_result"
    }
   ],
   "source": [
    "# 7. Summary statistics to describe uncertainty in the mean from bootstrap\n",
    "columns = ['mean']\n",
    "df_mean = pd.DataFrame(summary,columns=columns)\n",
    "df_mean.describe()"
   ]
  },
  {
   "cell_type": "code",
   "execution_count": null,
   "metadata": {
    "collapsed": true
   },
   "outputs": [],
   "source": [
    "# What did we learn?\n",
    "# 1. Uncertainty decreases rapidly as the number of data samples increases.\n",
    "# 2. Bootstrap result for uncertainty in the mean is the same as standard error if uncorrelated and more if spatially correlated.\n",
    "# 3. Spatial bootstrap provides uncertainty in any statistic.\n",
    "# 4. Spatial bootstrap does account for spatial context, location of data and spatial correlation.  Resampling from realizations\n",
    "#    taught by Journel is available to account for spatial trends, conditioning data, and secondary information."
   ]
  }
 ],
 "metadata": {
  "kernelspec": {
   "display_name": "Python 3",
   "language": "python",
   "name": "python3"
  },
  "language_info": {
   "codemirror_mode": {
    "name": "ipython",
    "version": 3
   },
   "file_extension": ".py",
   "mimetype": "text/x-python",
   "name": "python",
   "nbconvert_exporter": "python",
   "pygments_lexer": "ipython3",
   "version": "3.6.1"
  }
 },
 "nbformat": 4,
 "nbformat_minor": 2
}
